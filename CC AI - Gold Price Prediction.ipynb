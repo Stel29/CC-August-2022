{
 "cells": [
  {
   "cell_type": "code",
   "execution_count": 1,
   "id": "16becd14",
   "metadata": {},
   "outputs": [],
   "source": [
    "import numpy as np\n",
    "import pandas as pd\n",
    "import matplotlib.pyplot as plt\n",
    "import seaborn as sns\n",
    "\n",
    "import warnings\n",
    "warnings.filterwarnings('ignore')"
   ]
  },
  {
   "cell_type": "code",
   "execution_count": 2,
   "id": "9270000d",
   "metadata": {},
   "outputs": [],
   "source": [
    "df = pd.read_csv('FINAL_USO.csv')"
   ]
  },
  {
   "cell_type": "code",
   "execution_count": 3,
   "id": "c2f2ce0c",
   "metadata": {},
   "outputs": [
    {
     "data": {
      "text/html": [
       "<div>\n",
       "<style scoped>\n",
       "    .dataframe tbody tr th:only-of-type {\n",
       "        vertical-align: middle;\n",
       "    }\n",
       "\n",
       "    .dataframe tbody tr th {\n",
       "        vertical-align: top;\n",
       "    }\n",
       "\n",
       "    .dataframe thead th {\n",
       "        text-align: right;\n",
       "    }\n",
       "</style>\n",
       "<table border=\"1\" class=\"dataframe\">\n",
       "  <thead>\n",
       "    <tr style=\"text-align: right;\">\n",
       "      <th></th>\n",
       "      <th>Date</th>\n",
       "      <th>Open</th>\n",
       "      <th>High</th>\n",
       "      <th>Low</th>\n",
       "      <th>Close</th>\n",
       "      <th>Adj Close</th>\n",
       "      <th>Volume</th>\n",
       "      <th>SP_open</th>\n",
       "      <th>SP_high</th>\n",
       "      <th>SP_low</th>\n",
       "      <th>...</th>\n",
       "      <th>GDX_Low</th>\n",
       "      <th>GDX_Close</th>\n",
       "      <th>GDX_Adj Close</th>\n",
       "      <th>GDX_Volume</th>\n",
       "      <th>USO_Open</th>\n",
       "      <th>USO_High</th>\n",
       "      <th>USO_Low</th>\n",
       "      <th>USO_Close</th>\n",
       "      <th>USO_Adj Close</th>\n",
       "      <th>USO_Volume</th>\n",
       "    </tr>\n",
       "  </thead>\n",
       "  <tbody>\n",
       "    <tr>\n",
       "      <th>0</th>\n",
       "      <td>2011-12-15</td>\n",
       "      <td>154.740005</td>\n",
       "      <td>154.949997</td>\n",
       "      <td>151.710007</td>\n",
       "      <td>152.330002</td>\n",
       "      <td>152.330002</td>\n",
       "      <td>21521900</td>\n",
       "      <td>123.029999</td>\n",
       "      <td>123.199997</td>\n",
       "      <td>121.989998</td>\n",
       "      <td>...</td>\n",
       "      <td>51.570000</td>\n",
       "      <td>51.680000</td>\n",
       "      <td>48.973877</td>\n",
       "      <td>20605600</td>\n",
       "      <td>36.900002</td>\n",
       "      <td>36.939999</td>\n",
       "      <td>36.049999</td>\n",
       "      <td>36.130001</td>\n",
       "      <td>36.130001</td>\n",
       "      <td>12616700</td>\n",
       "    </tr>\n",
       "    <tr>\n",
       "      <th>1</th>\n",
       "      <td>2011-12-16</td>\n",
       "      <td>154.309998</td>\n",
       "      <td>155.369995</td>\n",
       "      <td>153.899994</td>\n",
       "      <td>155.229996</td>\n",
       "      <td>155.229996</td>\n",
       "      <td>18124300</td>\n",
       "      <td>122.230003</td>\n",
       "      <td>122.949997</td>\n",
       "      <td>121.300003</td>\n",
       "      <td>...</td>\n",
       "      <td>52.040001</td>\n",
       "      <td>52.680000</td>\n",
       "      <td>49.921513</td>\n",
       "      <td>16285400</td>\n",
       "      <td>36.180000</td>\n",
       "      <td>36.500000</td>\n",
       "      <td>35.730000</td>\n",
       "      <td>36.270000</td>\n",
       "      <td>36.270000</td>\n",
       "      <td>12578800</td>\n",
       "    </tr>\n",
       "    <tr>\n",
       "      <th>2</th>\n",
       "      <td>2011-12-19</td>\n",
       "      <td>155.479996</td>\n",
       "      <td>155.860001</td>\n",
       "      <td>154.360001</td>\n",
       "      <td>154.869995</td>\n",
       "      <td>154.869995</td>\n",
       "      <td>12547200</td>\n",
       "      <td>122.059998</td>\n",
       "      <td>122.320000</td>\n",
       "      <td>120.029999</td>\n",
       "      <td>...</td>\n",
       "      <td>51.029999</td>\n",
       "      <td>51.169998</td>\n",
       "      <td>48.490578</td>\n",
       "      <td>15120200</td>\n",
       "      <td>36.389999</td>\n",
       "      <td>36.450001</td>\n",
       "      <td>35.930000</td>\n",
       "      <td>36.200001</td>\n",
       "      <td>36.200001</td>\n",
       "      <td>7418200</td>\n",
       "    </tr>\n",
       "    <tr>\n",
       "      <th>3</th>\n",
       "      <td>2011-12-20</td>\n",
       "      <td>156.820007</td>\n",
       "      <td>157.429993</td>\n",
       "      <td>156.580002</td>\n",
       "      <td>156.979996</td>\n",
       "      <td>156.979996</td>\n",
       "      <td>9136300</td>\n",
       "      <td>122.180000</td>\n",
       "      <td>124.139999</td>\n",
       "      <td>120.370003</td>\n",
       "      <td>...</td>\n",
       "      <td>52.369999</td>\n",
       "      <td>52.990002</td>\n",
       "      <td>50.215282</td>\n",
       "      <td>11644900</td>\n",
       "      <td>37.299999</td>\n",
       "      <td>37.610001</td>\n",
       "      <td>37.220001</td>\n",
       "      <td>37.560001</td>\n",
       "      <td>37.560001</td>\n",
       "      <td>10041600</td>\n",
       "    </tr>\n",
       "    <tr>\n",
       "      <th>4</th>\n",
       "      <td>2011-12-21</td>\n",
       "      <td>156.979996</td>\n",
       "      <td>157.529999</td>\n",
       "      <td>156.130005</td>\n",
       "      <td>157.160004</td>\n",
       "      <td>157.160004</td>\n",
       "      <td>11996100</td>\n",
       "      <td>123.930000</td>\n",
       "      <td>124.360001</td>\n",
       "      <td>122.750000</td>\n",
       "      <td>...</td>\n",
       "      <td>52.419998</td>\n",
       "      <td>52.959999</td>\n",
       "      <td>50.186852</td>\n",
       "      <td>8724300</td>\n",
       "      <td>37.669998</td>\n",
       "      <td>38.240002</td>\n",
       "      <td>37.520000</td>\n",
       "      <td>38.110001</td>\n",
       "      <td>38.110001</td>\n",
       "      <td>10728000</td>\n",
       "    </tr>\n",
       "  </tbody>\n",
       "</table>\n",
       "<p>5 rows × 81 columns</p>\n",
       "</div>"
      ],
      "text/plain": [
       "         Date        Open        High         Low       Close   Adj Close  \\\n",
       "0  2011-12-15  154.740005  154.949997  151.710007  152.330002  152.330002   \n",
       "1  2011-12-16  154.309998  155.369995  153.899994  155.229996  155.229996   \n",
       "2  2011-12-19  155.479996  155.860001  154.360001  154.869995  154.869995   \n",
       "3  2011-12-20  156.820007  157.429993  156.580002  156.979996  156.979996   \n",
       "4  2011-12-21  156.979996  157.529999  156.130005  157.160004  157.160004   \n",
       "\n",
       "     Volume     SP_open     SP_high      SP_low  ...    GDX_Low  GDX_Close  \\\n",
       "0  21521900  123.029999  123.199997  121.989998  ...  51.570000  51.680000   \n",
       "1  18124300  122.230003  122.949997  121.300003  ...  52.040001  52.680000   \n",
       "2  12547200  122.059998  122.320000  120.029999  ...  51.029999  51.169998   \n",
       "3   9136300  122.180000  124.139999  120.370003  ...  52.369999  52.990002   \n",
       "4  11996100  123.930000  124.360001  122.750000  ...  52.419998  52.959999   \n",
       "\n",
       "   GDX_Adj Close  GDX_Volume   USO_Open   USO_High    USO_Low  USO_Close  \\\n",
       "0      48.973877    20605600  36.900002  36.939999  36.049999  36.130001   \n",
       "1      49.921513    16285400  36.180000  36.500000  35.730000  36.270000   \n",
       "2      48.490578    15120200  36.389999  36.450001  35.930000  36.200001   \n",
       "3      50.215282    11644900  37.299999  37.610001  37.220001  37.560001   \n",
       "4      50.186852     8724300  37.669998  38.240002  37.520000  38.110001   \n",
       "\n",
       "   USO_Adj Close  USO_Volume  \n",
       "0      36.130001    12616700  \n",
       "1      36.270000    12578800  \n",
       "2      36.200001     7418200  \n",
       "3      37.560001    10041600  \n",
       "4      38.110001    10728000  \n",
       "\n",
       "[5 rows x 81 columns]"
      ]
     },
     "execution_count": 3,
     "metadata": {},
     "output_type": "execute_result"
    }
   ],
   "source": [
    "df.head()"
   ]
  },
  {
   "cell_type": "code",
   "execution_count": 4,
   "id": "e34fca5f",
   "metadata": {},
   "outputs": [
    {
     "data": {
      "text/plain": [
       "Index(['Date', 'Open', 'High', 'Low', 'Close', 'Adj Close', 'Volume',\n",
       "       'SP_open', 'SP_high', 'SP_low', 'SP_close', 'SP_Ajclose', 'SP_volume',\n",
       "       'DJ_open', 'DJ_high', 'DJ_low', 'DJ_close', 'DJ_Ajclose', 'DJ_volume',\n",
       "       'EG_open', 'EG_high', 'EG_low', 'EG_close', 'EG_Ajclose', 'EG_volume',\n",
       "       'EU_Price', 'EU_open', 'EU_high', 'EU_low', 'EU_Trend', 'OF_Price',\n",
       "       'OF_Open', 'OF_High', 'OF_Low', 'OF_Volume', 'OF_Trend', 'OS_Price',\n",
       "       'OS_Open', 'OS_High', 'OS_Low', 'OS_Trend', 'SF_Price', 'SF_Open',\n",
       "       'SF_High', 'SF_Low', 'SF_Volume', 'SF_Trend', 'USB_Price', 'USB_Open',\n",
       "       'USB_High', 'USB_Low', 'USB_Trend', 'PLT_Price', 'PLT_Open', 'PLT_High',\n",
       "       'PLT_Low', 'PLT_Trend', 'PLD_Price', 'PLD_Open', 'PLD_High', 'PLD_Low',\n",
       "       'PLD_Trend', 'RHO_PRICE', 'USDI_Price', 'USDI_Open', 'USDI_High',\n",
       "       'USDI_Low', 'USDI_Volume', 'USDI_Trend', 'GDX_Open', 'GDX_High',\n",
       "       'GDX_Low', 'GDX_Close', 'GDX_Adj Close', 'GDX_Volume', 'USO_Open',\n",
       "       'USO_High', 'USO_Low', 'USO_Close', 'USO_Adj Close', 'USO_Volume'],\n",
       "      dtype='object')"
      ]
     },
     "execution_count": 4,
     "metadata": {},
     "output_type": "execute_result"
    }
   ],
   "source": [
    "df.columns"
   ]
  },
  {
   "cell_type": "code",
   "execution_count": 5,
   "id": "ce276967",
   "metadata": {},
   "outputs": [],
   "source": [
    "df.drop(['SP_open', 'SP_high', 'SP_low', 'SP_close', 'SP_Ajclose', 'SP_volume',\n",
    "       'DJ_open', 'DJ_high', 'DJ_low', 'DJ_close', 'DJ_Ajclose', 'DJ_volume',\n",
    "       'EG_open', 'EG_high', 'EG_low', 'EG_close', 'EG_Ajclose', 'EG_volume',\n",
    "       'EU_Price', 'EU_open', 'EU_high', 'EU_low', 'EU_Trend', 'OF_Price',\n",
    "       'OF_Open', 'OF_High', 'OF_Low', 'OF_Volume', 'OF_Trend', 'OS_Price',\n",
    "       'OS_Open', 'OS_High', 'OS_Low', 'OS_Trend', 'SF_Price', 'SF_Open',\n",
    "       'SF_High', 'SF_Low', 'SF_Volume', 'SF_Trend', 'USB_Price', 'USB_Open',\n",
    "       'USB_High', 'USB_Low', 'USB_Trend', 'PLT_Price', 'PLT_Open', 'PLT_High',\n",
    "       'PLT_Low', 'PLT_Trend', 'PLD_Price', 'PLD_Open', 'PLD_High', 'PLD_Low',\n",
    "       'PLD_Trend', 'RHO_PRICE', 'USDI_Price', 'USDI_Open', 'USDI_High',\n",
    "       'USDI_Low', 'USDI_Volume', 'USDI_Trend', 'GDX_Open', 'GDX_High',\n",
    "       'GDX_Low', 'GDX_Close', 'GDX_Adj Close', 'GDX_Volume', 'USO_Open',\n",
    "       'USO_High', 'USO_Low', 'USO_Close', 'USO_Adj Close', 'USO_Volume'], axis=1, inplace=True)"
   ]
  },
  {
   "cell_type": "code",
   "execution_count": 6,
   "id": "4a3aae71",
   "metadata": {},
   "outputs": [
    {
     "data": {
      "text/html": [
       "<div>\n",
       "<style scoped>\n",
       "    .dataframe tbody tr th:only-of-type {\n",
       "        vertical-align: middle;\n",
       "    }\n",
       "\n",
       "    .dataframe tbody tr th {\n",
       "        vertical-align: top;\n",
       "    }\n",
       "\n",
       "    .dataframe thead th {\n",
       "        text-align: right;\n",
       "    }\n",
       "</style>\n",
       "<table border=\"1\" class=\"dataframe\">\n",
       "  <thead>\n",
       "    <tr style=\"text-align: right;\">\n",
       "      <th></th>\n",
       "      <th>Date</th>\n",
       "      <th>Open</th>\n",
       "      <th>High</th>\n",
       "      <th>Low</th>\n",
       "      <th>Close</th>\n",
       "      <th>Adj Close</th>\n",
       "      <th>Volume</th>\n",
       "    </tr>\n",
       "  </thead>\n",
       "  <tbody>\n",
       "    <tr>\n",
       "      <th>0</th>\n",
       "      <td>2011-12-15</td>\n",
       "      <td>154.740005</td>\n",
       "      <td>154.949997</td>\n",
       "      <td>151.710007</td>\n",
       "      <td>152.330002</td>\n",
       "      <td>152.330002</td>\n",
       "      <td>21521900</td>\n",
       "    </tr>\n",
       "    <tr>\n",
       "      <th>1</th>\n",
       "      <td>2011-12-16</td>\n",
       "      <td>154.309998</td>\n",
       "      <td>155.369995</td>\n",
       "      <td>153.899994</td>\n",
       "      <td>155.229996</td>\n",
       "      <td>155.229996</td>\n",
       "      <td>18124300</td>\n",
       "    </tr>\n",
       "    <tr>\n",
       "      <th>2</th>\n",
       "      <td>2011-12-19</td>\n",
       "      <td>155.479996</td>\n",
       "      <td>155.860001</td>\n",
       "      <td>154.360001</td>\n",
       "      <td>154.869995</td>\n",
       "      <td>154.869995</td>\n",
       "      <td>12547200</td>\n",
       "    </tr>\n",
       "    <tr>\n",
       "      <th>3</th>\n",
       "      <td>2011-12-20</td>\n",
       "      <td>156.820007</td>\n",
       "      <td>157.429993</td>\n",
       "      <td>156.580002</td>\n",
       "      <td>156.979996</td>\n",
       "      <td>156.979996</td>\n",
       "      <td>9136300</td>\n",
       "    </tr>\n",
       "    <tr>\n",
       "      <th>4</th>\n",
       "      <td>2011-12-21</td>\n",
       "      <td>156.979996</td>\n",
       "      <td>157.529999</td>\n",
       "      <td>156.130005</td>\n",
       "      <td>157.160004</td>\n",
       "      <td>157.160004</td>\n",
       "      <td>11996100</td>\n",
       "    </tr>\n",
       "  </tbody>\n",
       "</table>\n",
       "</div>"
      ],
      "text/plain": [
       "         Date        Open        High         Low       Close   Adj Close  \\\n",
       "0  2011-12-15  154.740005  154.949997  151.710007  152.330002  152.330002   \n",
       "1  2011-12-16  154.309998  155.369995  153.899994  155.229996  155.229996   \n",
       "2  2011-12-19  155.479996  155.860001  154.360001  154.869995  154.869995   \n",
       "3  2011-12-20  156.820007  157.429993  156.580002  156.979996  156.979996   \n",
       "4  2011-12-21  156.979996  157.529999  156.130005  157.160004  157.160004   \n",
       "\n",
       "     Volume  \n",
       "0  21521900  \n",
       "1  18124300  \n",
       "2  12547200  \n",
       "3   9136300  \n",
       "4  11996100  "
      ]
     },
     "execution_count": 6,
     "metadata": {},
     "output_type": "execute_result"
    }
   ],
   "source": [
    "df.head()"
   ]
  },
  {
   "cell_type": "code",
   "execution_count": 7,
   "id": "566e3198",
   "metadata": {},
   "outputs": [
    {
     "data": {
      "text/plain": [
       "(1718, 7)"
      ]
     },
     "execution_count": 7,
     "metadata": {},
     "output_type": "execute_result"
    }
   ],
   "source": [
    "df.shape"
   ]
  },
  {
   "cell_type": "code",
   "execution_count": 8,
   "id": "d942e8e0",
   "metadata": {},
   "outputs": [
    {
     "name": "stdout",
     "output_type": "stream",
     "text": [
      "<class 'pandas.core.frame.DataFrame'>\n",
      "RangeIndex: 1718 entries, 0 to 1717\n",
      "Data columns (total 7 columns):\n",
      " #   Column     Non-Null Count  Dtype  \n",
      "---  ------     --------------  -----  \n",
      " 0   Date       1718 non-null   object \n",
      " 1   Open       1718 non-null   float64\n",
      " 2   High       1718 non-null   float64\n",
      " 3   Low        1718 non-null   float64\n",
      " 4   Close      1718 non-null   float64\n",
      " 5   Adj Close  1718 non-null   float64\n",
      " 6   Volume     1718 non-null   int64  \n",
      "dtypes: float64(5), int64(1), object(1)\n",
      "memory usage: 94.1+ KB\n"
     ]
    }
   ],
   "source": [
    "df.info()"
   ]
  },
  {
   "cell_type": "code",
   "execution_count": 9,
   "id": "6e7a7ee7",
   "metadata": {},
   "outputs": [
    {
     "data": {
      "text/plain": [
       "Date         0\n",
       "Open         0\n",
       "High         0\n",
       "Low          0\n",
       "Close        0\n",
       "Adj Close    0\n",
       "Volume       0\n",
       "dtype: int64"
      ]
     },
     "execution_count": 9,
     "metadata": {},
     "output_type": "execute_result"
    }
   ],
   "source": [
    "df.isnull().sum()"
   ]
  },
  {
   "cell_type": "code",
   "execution_count": 10,
   "id": "0b214884",
   "metadata": {},
   "outputs": [
    {
     "data": {
      "text/html": [
       "<div>\n",
       "<style scoped>\n",
       "    .dataframe tbody tr th:only-of-type {\n",
       "        vertical-align: middle;\n",
       "    }\n",
       "\n",
       "    .dataframe tbody tr th {\n",
       "        vertical-align: top;\n",
       "    }\n",
       "\n",
       "    .dataframe thead th {\n",
       "        text-align: right;\n",
       "    }\n",
       "</style>\n",
       "<table border=\"1\" class=\"dataframe\">\n",
       "  <thead>\n",
       "    <tr style=\"text-align: right;\">\n",
       "      <th></th>\n",
       "      <th>Date</th>\n",
       "      <th>Open</th>\n",
       "      <th>High</th>\n",
       "      <th>Low</th>\n",
       "      <th>Close</th>\n",
       "      <th>Adj Close</th>\n",
       "      <th>Volume</th>\n",
       "    </tr>\n",
       "  </thead>\n",
       "  <tbody>\n",
       "  </tbody>\n",
       "</table>\n",
       "</div>"
      ],
      "text/plain": [
       "Empty DataFrame\n",
       "Columns: [Date, Open, High, Low, Close, Adj Close, Volume]\n",
       "Index: []"
      ]
     },
     "execution_count": 10,
     "metadata": {},
     "output_type": "execute_result"
    }
   ],
   "source": [
    "df.loc[df.duplicated()]"
   ]
  },
  {
   "cell_type": "code",
   "execution_count": 11,
   "id": "01801fac",
   "metadata": {},
   "outputs": [],
   "source": [
    "from sklearn.linear_model import LinearRegression\n",
    "from sklearn.model_selection import train_test_split"
   ]
  },
  {
   "cell_type": "code",
   "execution_count": 12,
   "id": "5a301c9b",
   "metadata": {},
   "outputs": [],
   "source": [
    "x = df.drop(['Open','Date'], axis = 1)\n",
    "y = df['Open']"
   ]
  },
  {
   "cell_type": "code",
   "execution_count": 13,
   "id": "f8288461",
   "metadata": {},
   "outputs": [
    {
     "data": {
      "text/html": [
       "<div>\n",
       "<style scoped>\n",
       "    .dataframe tbody tr th:only-of-type {\n",
       "        vertical-align: middle;\n",
       "    }\n",
       "\n",
       "    .dataframe tbody tr th {\n",
       "        vertical-align: top;\n",
       "    }\n",
       "\n",
       "    .dataframe thead th {\n",
       "        text-align: right;\n",
       "    }\n",
       "</style>\n",
       "<table border=\"1\" class=\"dataframe\">\n",
       "  <thead>\n",
       "    <tr style=\"text-align: right;\">\n",
       "      <th></th>\n",
       "      <th>High</th>\n",
       "      <th>Low</th>\n",
       "      <th>Close</th>\n",
       "      <th>Adj Close</th>\n",
       "      <th>Volume</th>\n",
       "    </tr>\n",
       "  </thead>\n",
       "  <tbody>\n",
       "    <tr>\n",
       "      <th>0</th>\n",
       "      <td>154.949997</td>\n",
       "      <td>151.710007</td>\n",
       "      <td>152.330002</td>\n",
       "      <td>152.330002</td>\n",
       "      <td>21521900</td>\n",
       "    </tr>\n",
       "    <tr>\n",
       "      <th>1</th>\n",
       "      <td>155.369995</td>\n",
       "      <td>153.899994</td>\n",
       "      <td>155.229996</td>\n",
       "      <td>155.229996</td>\n",
       "      <td>18124300</td>\n",
       "    </tr>\n",
       "    <tr>\n",
       "      <th>2</th>\n",
       "      <td>155.860001</td>\n",
       "      <td>154.360001</td>\n",
       "      <td>154.869995</td>\n",
       "      <td>154.869995</td>\n",
       "      <td>12547200</td>\n",
       "    </tr>\n",
       "    <tr>\n",
       "      <th>3</th>\n",
       "      <td>157.429993</td>\n",
       "      <td>156.580002</td>\n",
       "      <td>156.979996</td>\n",
       "      <td>156.979996</td>\n",
       "      <td>9136300</td>\n",
       "    </tr>\n",
       "    <tr>\n",
       "      <th>4</th>\n",
       "      <td>157.529999</td>\n",
       "      <td>156.130005</td>\n",
       "      <td>157.160004</td>\n",
       "      <td>157.160004</td>\n",
       "      <td>11996100</td>\n",
       "    </tr>\n",
       "  </tbody>\n",
       "</table>\n",
       "</div>"
      ],
      "text/plain": [
       "         High         Low       Close   Adj Close    Volume\n",
       "0  154.949997  151.710007  152.330002  152.330002  21521900\n",
       "1  155.369995  153.899994  155.229996  155.229996  18124300\n",
       "2  155.860001  154.360001  154.869995  154.869995  12547200\n",
       "3  157.429993  156.580002  156.979996  156.979996   9136300\n",
       "4  157.529999  156.130005  157.160004  157.160004  11996100"
      ]
     },
     "execution_count": 13,
     "metadata": {},
     "output_type": "execute_result"
    }
   ],
   "source": [
    "x.head()"
   ]
  },
  {
   "cell_type": "code",
   "execution_count": 14,
   "id": "72d6dfa5",
   "metadata": {},
   "outputs": [
    {
     "data": {
      "text/plain": [
       "0    154.740005\n",
       "1    154.309998\n",
       "2    155.479996\n",
       "3    156.820007\n",
       "4    156.979996\n",
       "Name: Open, dtype: float64"
      ]
     },
     "execution_count": 14,
     "metadata": {},
     "output_type": "execute_result"
    }
   ],
   "source": [
    "y.head()"
   ]
  },
  {
   "cell_type": "code",
   "execution_count": 15,
   "id": "a3cce1da",
   "metadata": {},
   "outputs": [],
   "source": [
    "X_train, X_test, y_train, y_test = train_test_split(x,y, test_size = 0.3, random_state = 0)"
   ]
  },
  {
   "cell_type": "code",
   "execution_count": 16,
   "id": "ee59824f",
   "metadata": {},
   "outputs": [],
   "source": [
    "lr = LinearRegression()"
   ]
  },
  {
   "cell_type": "code",
   "execution_count": 17,
   "id": "07611aec",
   "metadata": {},
   "outputs": [
    {
     "data": {
      "text/plain": [
       "LinearRegression()"
      ]
     },
     "execution_count": 17,
     "metadata": {},
     "output_type": "execute_result"
    }
   ],
   "source": [
    "lr.fit(X_train, y_train)"
   ]
  },
  {
   "cell_type": "code",
   "execution_count": 18,
   "id": "8341446c",
   "metadata": {},
   "outputs": [
    {
     "data": {
      "text/plain": [
       "((1202, 5), (516, 5), (1202,), (516,))"
      ]
     },
     "execution_count": 18,
     "metadata": {},
     "output_type": "execute_result"
    }
   ],
   "source": [
    "X_train.shape, X_test.shape, y_train.shape, y_test.shape"
   ]
  },
  {
   "cell_type": "code",
   "execution_count": 19,
   "id": "9655828b",
   "metadata": {},
   "outputs": [],
   "source": [
    "y_train = y_train.values.reshape(-1,1)\n",
    "y_test = y_test.values.reshape(-1,1)"
   ]
  },
  {
   "cell_type": "code",
   "execution_count": 20,
   "id": "be5f5cfe",
   "metadata": {},
   "outputs": [
    {
     "data": {
      "text/plain": [
       "((1202, 5), (516, 5), (1202, 1), (516, 1))"
      ]
     },
     "execution_count": 20,
     "metadata": {},
     "output_type": "execute_result"
    }
   ],
   "source": [
    "X_train.shape, X_test.shape, y_train.shape, y_test.shape"
   ]
  },
  {
   "cell_type": "code",
   "execution_count": 21,
   "id": "5216dafb",
   "metadata": {},
   "outputs": [
    {
     "data": {
      "text/plain": [
       "0.9996122188237807"
      ]
     },
     "execution_count": 21,
     "metadata": {},
     "output_type": "execute_result"
    }
   ],
   "source": [
    "lr.score(X_test, y_test)"
   ]
  },
  {
   "cell_type": "code",
   "execution_count": 22,
   "id": "5d91893d",
   "metadata": {},
   "outputs": [
    {
     "data": {
      "text/plain": [
       "array([117.1625272 , 120.27804428, 105.06472115, ..., 113.18395898,\n",
       "       126.36929887, 112.50471405])"
      ]
     },
     "execution_count": 22,
     "metadata": {},
     "output_type": "execute_result"
    }
   ],
   "source": [
    "y_train_pred = lr.predict(X_train)\n",
    "y_train_pred"
   ]
  },
  {
   "cell_type": "code",
   "execution_count": 23,
   "id": "ca69d6f8",
   "metadata": {},
   "outputs": [
    {
     "data": {
      "text/plain": [
       "array([119.80775263, 117.13782116, 116.91490286, 102.32206105,\n",
       "       116.43851941, 127.29271178, 156.03350842, 112.38455547,\n",
       "       119.37355498, 120.62388676, 115.77670933, 152.02468221,\n",
       "       107.31742346, 126.96975585, 132.70599427, 111.95639041,\n",
       "       117.40821329, 119.51142102, 105.69022644, 134.04516276,\n",
       "       161.7393794 , 118.71008092, 163.80758371, 153.76527707,\n",
       "       116.47982923, 135.5703731 , 123.2181151 , 122.15028552,\n",
       "       123.71655142, 103.93310903, 154.37276781, 135.61361696,\n",
       "       113.69068274, 116.48666421, 125.21570386, 158.02629964,\n",
       "       113.21384657, 167.92198989, 111.68797234, 116.30423175,\n",
       "       117.05813465, 112.98846878, 122.95448464, 127.63012298,\n",
       "       114.74455005, 112.72191244, 160.34489836, 124.60440204,\n",
       "       128.4788038 , 119.81246987, 172.69411331, 156.58988075,\n",
       "       172.70544108, 120.3067373 , 119.60490113, 162.00333846,\n",
       "       162.17216015, 120.4688878 , 126.32992138, 119.00232515,\n",
       "       115.19425883, 114.59317704, 159.54347957, 124.55805715,\n",
       "       120.77244859, 125.342985  , 115.05136313, 156.46624194,\n",
       "       105.42773787, 115.46260175, 125.12922513, 128.28672742,\n",
       "       156.61105373, 115.25198472, 125.16498024, 167.2784129 ,\n",
       "       157.8064744 , 114.62095655, 112.00558301, 124.31992559,\n",
       "       109.10044993, 128.93840321, 120.86218953, 123.11968519,\n",
       "       118.95100888, 161.03448995, 113.26599568, 121.04598356,\n",
       "       115.30275968, 121.32369716, 119.55611846, 123.14782944,\n",
       "       124.50082461, 165.84846867, 128.08923278, 105.63856043,\n",
       "       118.67546442, 126.49560102, 112.21769422, 126.32255261,\n",
       "       116.77904764, 123.72437314, 118.70903617, 126.31264584,\n",
       "       110.28310232, 128.80308817, 109.74564989, 127.27860844,\n",
       "       116.49632021, 117.94187028, 124.11083707, 122.84470979,\n",
       "       119.03041732, 115.81225017, 121.38497137, 122.68564294,\n",
       "       120.83595802, 167.98989467, 114.74743895, 107.60454734,\n",
       "       122.05407011, 118.32755679, 107.84836117, 118.55379603,\n",
       "       110.45512175, 108.20022215, 167.25534318, 122.55930922,\n",
       "       121.03649628, 117.11793391, 116.8937865 , 118.01538861,\n",
       "       124.56147767, 158.94291707, 126.33666836, 159.64983308,\n",
       "       119.89270933, 156.11703269, 164.41820705, 107.31984325,\n",
       "       153.17582003, 131.39217833, 116.69862355, 110.0343579 ,\n",
       "       122.9533281 , 115.53336019, 119.18693142, 122.96459931,\n",
       "       161.22102204, 121.81521417, 171.5259307 , 105.81250322,\n",
       "       124.38620833, 104.63563443, 161.6495613 , 161.96844067,\n",
       "       123.53505219, 120.83292461, 110.42728221, 158.49544041,\n",
       "       124.64190117, 127.2058856 , 163.02923894, 124.96860753,\n",
       "       126.72903043, 129.04617111, 112.17390312, 127.78805366,\n",
       "       148.94051298, 117.49464567, 124.1627274 , 118.27623479,\n",
       "       151.76187028, 121.74299925, 128.7659041 , 116.46604083,\n",
       "       159.63151712, 164.04242188, 118.35649232, 121.75094972,\n",
       "       116.51643655, 119.0962669 , 153.04956954, 111.91993949,\n",
       "       160.98200091, 159.5624735 , 118.5540341 , 161.72247339,\n",
       "       165.81559837, 110.99923236, 156.99279039, 120.3737487 ,\n",
       "       120.2630612 , 115.3825754 , 117.49862843, 129.41477892,\n",
       "       159.35590029, 117.92739044, 119.71567908, 164.9454817 ,\n",
       "       136.67030052, 160.57762255, 109.98631328, 124.8746667 ,\n",
       "       124.24989128, 160.77298603, 114.78283501, 116.69708006,\n",
       "       155.09782579, 132.35584697, 156.19678374, 120.78101016,\n",
       "       134.38909776, 124.14828611, 117.34799797, 128.9048256 ,\n",
       "       118.80945834, 121.02762823, 126.75457001, 111.4985401 ,\n",
       "       114.91468438, 117.5563553 , 132.73561391, 117.49145829,\n",
       "       118.52426177, 119.37537365, 119.99126315, 126.33428906,\n",
       "       124.24265197, 114.62792992, 120.01382217, 109.99971086,\n",
       "       117.05643296, 122.1971113 , 126.89377552, 167.45299564,\n",
       "       103.56153167, 128.45150241, 115.44168203, 102.96549143,\n",
       "       120.95637053, 126.91332452, 107.45085358, 106.07521958,\n",
       "       152.5750759 , 123.51152848, 120.92271446, 127.06837404,\n",
       "       123.02938617, 103.79455041, 117.43731626, 122.12561312,\n",
       "       125.22710214, 120.86794722, 164.71656199, 156.61237106,\n",
       "       171.06649642, 118.41751458, 164.47849737, 119.05457312,\n",
       "       124.96852864, 127.06931324, 115.6234973 , 112.06186674,\n",
       "       119.62124558, 128.5610684 , 170.05069953, 119.02747156,\n",
       "       117.6543014 , 130.12288914, 121.4966714 , 118.87783035,\n",
       "       124.9425716 , 128.45853052, 118.03830667, 129.82309354,\n",
       "       112.34739555, 124.76215589, 103.17264541, 124.9524179 ,\n",
       "       160.54772946, 119.54728895, 118.29266485, 114.81675666,\n",
       "       119.13178495, 160.33902691, 119.40228413, 111.90389877,\n",
       "       107.50892604, 111.338302  , 110.50742565, 123.69816713,\n",
       "       113.0563372 , 117.17626954, 156.07202647, 120.42463063,\n",
       "       152.89721479, 107.60444056, 125.8069816 , 122.68167146,\n",
       "       161.82319011, 108.38628043, 163.68354597, 167.69794977,\n",
       "       119.70852164, 119.49218551, 124.71855142, 116.28991756,\n",
       "       110.43094701, 115.8483758 , 135.53964923, 114.18526637,\n",
       "       170.93279565, 160.46555473, 113.25589258, 122.99043483,\n",
       "       108.85941262, 118.77340105, 155.4717469 , 128.73192113,\n",
       "       130.94715346, 118.07239161, 119.06137856, 116.41748315,\n",
       "       119.01237945, 125.06598663, 102.55295316, 113.58550299,\n",
       "       113.90260733, 124.35848509, 151.29293945, 170.82172167,\n",
       "       122.73251664, 172.13160497, 125.09887554, 103.26381232,\n",
       "       126.70021936, 153.06210508, 151.55773927, 121.72360475,\n",
       "       123.83648961, 116.68857216, 127.19914159, 154.54366415,\n",
       "       122.61381305, 158.90983523, 120.35362252, 116.8176462 ,\n",
       "       120.71607524, 121.42878484, 113.85095895, 126.4222133 ,\n",
       "       160.66043461, 119.58168244, 173.06772813, 118.61766205,\n",
       "       132.97940178, 160.34476525, 111.31774162, 124.98216143,\n",
       "       149.83306138, 115.48629103, 121.94310975, 113.86845056,\n",
       "       124.1947855 , 124.64196719, 127.73941625, 121.57796132,\n",
       "       120.86771229, 167.67437618, 122.43231363, 111.26171439,\n",
       "       153.20130665, 108.53856402, 101.82667406, 116.19378688,\n",
       "       115.41940828, 167.13650914, 122.52570995, 128.46340249,\n",
       "       121.55933772, 125.32394751, 128.62341057, 124.41021515,\n",
       "       127.42255595, 119.6425631 , 155.32359962, 116.2656743 ,\n",
       "       118.32851398, 125.5223267 , 118.25514013, 112.77730839,\n",
       "       129.38711347, 103.22585344, 165.71878217, 123.40886974,\n",
       "       121.2305748 , 126.99192172, 119.50518906, 124.35026142,\n",
       "       129.69800838, 114.66979938, 115.23982559, 121.79857989,\n",
       "       125.61536709, 158.76260116, 164.03365527, 149.48796551,\n",
       "       118.30159791, 117.2950464 , 119.26156664, 114.3448747 ,\n",
       "       118.32673216, 154.22028375, 121.99320587, 119.18656062,\n",
       "       117.65561779, 123.16814845, 173.19206708, 107.99938059,\n",
       "       122.05712357, 114.02881842, 127.11312549, 119.65295702,\n",
       "       109.75665065, 119.66785829, 124.52720909, 129.00300624,\n",
       "       114.88607946, 123.67876542, 169.52349377, 102.42204769,\n",
       "       106.37244099, 128.2921779 , 128.16591213, 159.33606041,\n",
       "       127.03947828, 166.83909961, 116.40242192, 113.17285516,\n",
       "       125.32157519, 133.42500222, 164.47826193, 119.40472368,\n",
       "       118.32169482, 110.6726165 , 115.46625722, 162.16970057,\n",
       "       113.82871794, 124.3655446 , 167.63865377, 152.73406015,\n",
       "       116.11534522, 163.02188545, 124.06784914, 126.89132098,\n",
       "       102.21144137, 114.3626435 , 116.00204279, 115.51364202,\n",
       "       121.89570897, 153.52729117, 124.08007064, 123.57419837,\n",
       "       116.03070445, 119.75667676, 117.88039239, 133.18890038,\n",
       "       126.48923734, 141.95146692, 123.11103516, 113.24157123,\n",
       "       132.67721093, 122.39442408, 116.13131163, 115.13430522,\n",
       "       116.26480165, 106.45631589, 124.93158892, 124.52781027,\n",
       "       117.53184138, 113.97257683, 125.04143284, 127.07524936,\n",
       "       113.86793031, 120.15558713, 125.89365484, 118.572437  ,\n",
       "       124.49074331, 104.33849501, 115.62180068, 117.16130007,\n",
       "       113.01410853, 122.93887361, 161.12348633, 118.06236297,\n",
       "       168.20929395, 102.96712595, 118.14903997, 120.96718886,\n",
       "       118.54522993, 124.83282543, 122.11059976, 124.67534386,\n",
       "       107.15462627, 124.7497649 , 126.57137571, 118.41150259,\n",
       "       126.64907155, 167.82411365, 118.24481544, 118.76708883,\n",
       "       103.46256518, 155.35106936, 111.47670796, 129.23803222])"
      ]
     },
     "execution_count": 23,
     "metadata": {},
     "output_type": "execute_result"
    }
   ],
   "source": [
    "y_pred = lr.predict(X_test)\n",
    "y_pred"
   ]
  },
  {
   "cell_type": "code",
   "execution_count": 24,
   "id": "fa965b2e",
   "metadata": {},
   "outputs": [],
   "source": [
    "from sklearn.preprocessing import StandardScaler\n",
    "sc = StandardScaler()\n",
    "X_train_std = sc.fit_transform(X_train) # study & exam\n",
    "X_test_std = sc.transform(X_test) "
   ]
  },
  {
   "cell_type": "code",
   "execution_count": 25,
   "id": "b0ae8d54",
   "metadata": {},
   "outputs": [],
   "source": [
    "from sklearn.ensemble import RandomForestRegressor"
   ]
  },
  {
   "cell_type": "code",
   "execution_count": 26,
   "id": "e6e7a03e",
   "metadata": {},
   "outputs": [],
   "source": [
    "rf_tree = RandomForestRegressor(random_state=0)\n",
    "rf_tree.fit(X_train_std,y_train)\n",
    "rf_tree_y_pred = rf_tree.predict(X_train_std)"
   ]
  },
  {
   "cell_type": "code",
   "execution_count": 27,
   "id": "df5af30a",
   "metadata": {},
   "outputs": [],
   "source": [
    "from sklearn.metrics import r2_score"
   ]
  },
  {
   "cell_type": "code",
   "execution_count": 28,
   "id": "29faaaf4",
   "metadata": {},
   "outputs": [
    {
     "name": "stdout",
     "output_type": "stream",
     "text": [
      "R squared: 0.9998360213735522\n"
     ]
    }
   ],
   "source": [
    "print(\"R squared: {}\".format(r2_score(y_true=y_train,y_pred=rf_tree_y_pred)))"
   ]
  },
  {
   "cell_type": "code",
   "execution_count": null,
   "id": "45d1f75f",
   "metadata": {},
   "outputs": [],
   "source": []
  }
 ],
 "metadata": {
  "kernelspec": {
   "display_name": "Python 3 (ipykernel)",
   "language": "python",
   "name": "python3"
  },
  "language_info": {
   "codemirror_mode": {
    "name": "ipython",
    "version": 3
   },
   "file_extension": ".py",
   "mimetype": "text/x-python",
   "name": "python",
   "nbconvert_exporter": "python",
   "pygments_lexer": "ipython3",
   "version": "3.9.12"
  }
 },
 "nbformat": 4,
 "nbformat_minor": 5
}
